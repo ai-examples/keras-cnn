{
  "nbformat": 4,
  "nbformat_minor": 0,
  "metadata": {
    "colab": {
      "name": "Keras_CNN_with_SVM_Classifier",
      "version": "0.3.2",
      "provenance": [],
      "collapsed_sections": []
    },
    "kernelspec": {
      "name": "python3",
      "display_name": "Python 3"
    },
    "accelerator": "GPU"
  },
  "cells": [
    {
      "cell_type": "code",
      "metadata": {
        "id": "y8aJuC0fP2-J",
        "colab_type": "code",
        "colab": {}
      },
      "source": [
        "!pip install --upgrade keras\n",
        "!pip install --upgrade tensorflow\n",
        "!pip install --upgrade keras-svm"
      ],
      "execution_count": 0,
      "outputs": []
    },
    {
      "cell_type": "code",
      "metadata": {
        "id": "_H2Uep3GQTC9",
        "colab_type": "code",
        "colab": {}
      },
      "source": [
        "from keras import backend as K\n",
        "K.tensorflow_backend._get_available_gpus()"
      ],
      "execution_count": 0,
      "outputs": []
    },
    {
      "cell_type": "code",
      "metadata": {
        "id": "Y5m2qNz-QWxf",
        "colab_type": "code",
        "colab": {}
      },
      "source": [
        "from keras.datasets import mnist\n",
        "(x_train, y_train), (x_test, y_test) = mnist.load_data()"
      ],
      "execution_count": 0,
      "outputs": []
    },
    {
      "cell_type": "code",
      "metadata": {
        "id": "eH_X9AuJQaTO",
        "colab_type": "code",
        "colab": {}
      },
      "source": [
        "from keras.utils import to_categorical\n",
        "\n",
        "img_rows, img_cols = 28, 28\n",
        "x_train = x_train.reshape(x_train.shape[0], img_rows, img_cols, 1)\n",
        "x_test = x_test.reshape(x_test.shape[0], img_rows, img_cols, 1)\n",
        "input_shape = (img_rows, img_cols, 1)\n",
        "\n",
        "x_train = x_train.astype('float32')\n",
        "x_test = x_test.astype('float32')\n",
        "x_train /= 255\n",
        "x_test /= 255\n",
        "\n",
        "num_classes = 10"
      ],
      "execution_count": 0,
      "outputs": []
    },
    {
      "cell_type": "code",
      "metadata": {
        "id": "hs0xLO_2QdpM",
        "colab_type": "code",
        "colab": {}
      },
      "source": [
        "from keras import layers\n",
        "from keras.models import Sequential\n",
        "from keras.losses import categorical_crossentropy\n",
        "from keras_svm import ModelSVMWrapper\n",
        "\n",
        "def build_model():\n",
        "  model = Sequential()\n",
        "  model.add(layers.Conv2D(32, kernel_size=(3, 3),\n",
        "                        strides=(2, 2), \n",
        "                        activation='relu', \n",
        "                        input_shape=input_shape))\n",
        "  model.add(layers.Conv2D(32, (3, 3), strides=(2, 2),\n",
        "                        activation='relu'))\n",
        "  model.add(layers.MaxPooling2D(pool_size=(2, 2)))\n",
        "  model.add(layers.Flatten(name=\"intermediate_output\"))\n",
        "  model.add(layers.Dense(20, activation='relu'))\n",
        "  model.add(layers.Dense(num_classes, activation='softmax'))\n",
        "  \n",
        "  model.compile(loss=categorical_crossentropy,\n",
        "              optimizer='rmsprop',\n",
        "              metrics=['accuracy'])\n",
        "  return model\n",
        "\n",
        "wrapper = ModelSVMWrapper(build_model())"
      ],
      "execution_count": 0,
      "outputs": []
    },
    {
      "cell_type": "code",
      "metadata": {
        "id": "nHHyM2mZZLbH",
        "colab_type": "code",
        "outputId": "70bc34d6-86a3-4988-d8a7-5969788f3abd",
        "colab": {
          "base_uri": "https://localhost:8080/",
          "height": 310
        }
      },
      "source": [
        "accuracy = {\n",
        "    \"with_svm\": [],\n",
        "    \"with_softmax\": []\n",
        "}\n",
        "\n",
        "wrapper.fit(x_train, y_train, epochs=5, batch_size=64)\n",
        "accuracy[\"with_svm\"].append(wrapper.evaluate(x_test, y_test))\n",
        "accuracy[\"with_softmax\"].append(\n",
        "    wrapper.model.evaluate(x_test, to_categorical(y_test))[1])"
      ],
      "execution_count": 6,
      "outputs": [
        {
          "output_type": "stream",
          "text": [
            "WARNING:tensorflow:From /usr/local/lib/python3.6/dist-packages/tensorflow/python/ops/math_ops.py:3066: to_int32 (from tensorflow.python.ops.math_ops) is deprecated and will be removed in a future version.\n",
            "Instructions for updating:\n",
            "Use tf.cast instead.\n",
            "Epoch 1/5\n",
            "60000/60000 [==============================] - 6s 94us/step - loss: 0.4034 - acc: 0.8794\n",
            "Epoch 2/5\n",
            "60000/60000 [==============================] - 3s 54us/step - loss: 0.1301 - acc: 0.9599\n",
            "Epoch 3/5\n",
            "60000/60000 [==============================] - 3s 54us/step - loss: 0.0983 - acc: 0.9693\n",
            "Epoch 4/5\n",
            "60000/60000 [==============================] - 3s 54us/step - loss: 0.0804 - acc: 0.9749\n",
            "Epoch 5/5\n",
            "60000/60000 [==============================] - 3s 53us/step - loss: 0.0688 - acc: 0.9788\n",
            "10000/10000 [==============================] - 0s 29us/step\n",
            "10000/10000 [==============================] - 0s 45us/step\n"
          ],
          "name": "stdout"
        }
      ]
    },
    {
      "cell_type": "code",
      "metadata": {
        "id": "oCQV8No2hisZ",
        "colab_type": "code",
        "outputId": "375dfe9b-f1cd-476c-f6aa-7b47d802edf1",
        "colab": {
          "base_uri": "https://localhost:8080/",
          "height": 35
        }
      },
      "source": [
        "print(accuracy)"
      ],
      "execution_count": 7,
      "outputs": [
        {
          "output_type": "stream",
          "text": [
            "{'with_svm': [0.98], 'with_softmax': [0.974]}\n"
          ],
          "name": "stdout"
        }
      ]
    }
  ]
}
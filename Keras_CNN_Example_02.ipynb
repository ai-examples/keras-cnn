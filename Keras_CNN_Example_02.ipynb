{
  "nbformat": 4,
  "nbformat_minor": 0,
  "metadata": {
    "colab": {
      "name": "Keras-CNN-Example-02.ipynb",
      "version": "0.3.2",
      "provenance": []
    },
    "kernelspec": {
      "name": "python3",
      "display_name": "Python 3"
    },
    "accelerator": "GPU"
  },
  "cells": [
    {
      "metadata": {
        "id": "Q0jLg4vc98hf",
        "colab_type": "code",
        "colab": {}
      },
      "cell_type": "code",
      "source": [
        "!pip install --upgrade keras\n",
        "!pip install --upgrade tensorflow"
      ],
      "execution_count": 0,
      "outputs": []
    },
    {
      "metadata": {
        "id": "WiM1JwH6-NlS",
        "colab_type": "code",
        "colab": {}
      },
      "cell_type": "code",
      "source": [
        "from keras import backend as K\n",
        "K.tensorflow_backend._get_available_gpus()"
      ],
      "execution_count": 0,
      "outputs": []
    },
    {
      "metadata": {
        "id": "9R3jdI2v-XCk",
        "colab_type": "code",
        "colab": {}
      },
      "cell_type": "code",
      "source": [
        "from keras.datasets import cifar10\n",
        "(x_train, y_train), (x_test, y_test) = cifar10.load_data()"
      ],
      "execution_count": 0,
      "outputs": []
    },
    {
      "metadata": {
        "id": "YBg6siFp-ZX1",
        "colab_type": "code",
        "colab": {}
      },
      "cell_type": "code",
      "source": [
        "from keras.utils import to_categorical\n",
        "\n",
        "num_classes = 10\n",
        "y_train = to_categorical(y_train, num_classes)\n",
        "y_test = to_categorical(y_test, num_classes)"
      ],
      "execution_count": 0,
      "outputs": []
    },
    {
      "metadata": {
        "id": "6IGpyyt2-bal",
        "colab_type": "code",
        "colab": {}
      },
      "cell_type": "code",
      "source": [
        "\n",
        "from keras.applications import MobileNet\n",
        "from keras.losses import categorical_crossentropy\n",
        "\n",
        "model = MobileNet(weights=None, input_shape=x_train.shape[1:], classes=num_classes)\n",
        "\n",
        "model.compile(loss=categorical_crossentropy,\n",
        "              optimizer='sgd',\n",
        "              metrics=['accuracy'])"
      ],
      "execution_count": 0,
      "outputs": []
    },
    {
      "metadata": {
        "id": "VlP_eQyR-3Ic",
        "colab_type": "code",
        "colab": {}
      },
      "cell_type": "code",
      "source": [
        "model.summary()"
      ],
      "execution_count": 0,
      "outputs": []
    },
    {
      "metadata": {
        "id": "_56TqTm5-5Oa",
        "colab_type": "code",
        "outputId": "8975bd0e-e3b5-47fc-fc9e-68e96d3d9398",
        "colab": {
          "base_uri": "https://localhost:8080/",
          "height": 391
        }
      },
      "cell_type": "code",
      "source": [
        "model.fit(x_train, y_train,\n",
        "          batch_size=64,\n",
        "          epochs=10,\n",
        "          verbose=1,\n",
        "          validation_data=(x_test, y_test))"
      ],
      "execution_count": 0,
      "outputs": [
        {
          "output_type": "stream",
          "text": [
            "Train on 50000 samples, validate on 10000 samples\n",
            "Epoch 1/10\n",
            "50000/50000 [==============================] - 40s 793us/step - loss: 1.9933 - acc: 0.2651 - val_loss: 2.0739 - val_acc: 0.2860\n",
            "Epoch 2/10\n",
            "50000/50000 [==============================] - 34s 683us/step - loss: 1.6564 - acc: 0.3869 - val_loss: 1.6531 - val_acc: 0.3953\n",
            "Epoch 3/10\n",
            "50000/50000 [==============================] - 34s 685us/step - loss: 1.5127 - acc: 0.4471 - val_loss: 1.5282 - val_acc: 0.4444\n",
            "Epoch 4/10\n",
            "50000/50000 [==============================] - 34s 682us/step - loss: 1.4213 - acc: 0.4839 - val_loss: 1.4763 - val_acc: 0.4583\n",
            "Epoch 5/10\n",
            "50000/50000 [==============================] - 34s 680us/step - loss: 1.3451 - acc: 0.5126 - val_loss: 1.6365 - val_acc: 0.4278\n",
            "Epoch 6/10\n",
            "50000/50000 [==============================] - 34s 681us/step - loss: 1.2834 - acc: 0.5358 - val_loss: 1.3568 - val_acc: 0.5113\n",
            "Epoch 7/10\n",
            "50000/50000 [==============================] - 34s 684us/step - loss: 1.2228 - acc: 0.5599 - val_loss: 1.4727 - val_acc: 0.4801\n",
            "Epoch 8/10\n",
            "50000/50000 [==============================] - 34s 684us/step - loss: 1.1731 - acc: 0.5783 - val_loss: 1.3538 - val_acc: 0.5185\n",
            "Epoch 9/10\n",
            "50000/50000 [==============================] - 34s 683us/step - loss: 1.1220 - acc: 0.6018 - val_loss: 1.3228 - val_acc: 0.5287\n",
            "Epoch 10/10\n",
            "50000/50000 [==============================] - 34s 682us/step - loss: 1.0702 - acc: 0.6172 - val_loss: 1.3802 - val_acc: 0.5151\n"
          ],
          "name": "stdout"
        },
        {
          "output_type": "execute_result",
          "data": {
            "text/plain": [
              "<keras.callbacks.History at 0x7f5b1e80f668>"
            ]
          },
          "metadata": {
            "tags": []
          },
          "execution_count": 19
        }
      ]
    },
    {
      "metadata": {
        "id": "Mocdp5iW-7mp",
        "colab_type": "code",
        "outputId": "e2811240-5baf-4010-d261-7c63e538af10",
        "colab": {
          "base_uri": "https://localhost:8080/",
          "height": 51
        }
      },
      "cell_type": "code",
      "source": [
        "score = model.evaluate(x_test, y_test, verbose=0)\n",
        "print('Test loss:', score[0])\n",
        "print('Test accuracy:', score[1])"
      ],
      "execution_count": 0,
      "outputs": [
        {
          "output_type": "stream",
          "text": [
            "Test loss: 1.380236274433136\n",
            "Test accuracy: 0.5151\n"
          ],
          "name": "stdout"
        }
      ]
    }
  ]
}
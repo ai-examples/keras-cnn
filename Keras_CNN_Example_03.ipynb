{
  "nbformat": 4,
  "nbformat_minor": 0,
  "metadata": {
    "colab": {
      "name": "Keras-CNN-Example-03.ipynb",
      "version": "0.3.2",
      "provenance": [],
      "collapsed_sections": []
    },
    "kernelspec": {
      "name": "python3",
      "display_name": "Python 3"
    },
    "accelerator": "GPU"
  },
  "cells": [
    {
      "metadata": {
        "id": "IT5gLV4LzUno",
        "colab_type": "code",
        "colab": {}
      },
      "cell_type": "code",
      "source": [
        "!pip install --upgrade keras\n",
        "!pip install --upgrade tensorflow"
      ],
      "execution_count": 0,
      "outputs": []
    },
    {
      "metadata": {
        "id": "piV5fjTmzsnk",
        "colab_type": "code",
        "outputId": "71f2bbaf-c48e-427b-d770-432f9a3c2841",
        "colab": {
          "base_uri": "https://localhost:8080/",
          "height": 51
        }
      },
      "cell_type": "code",
      "source": [
        "from keras import backend as K\n",
        "K.tensorflow_backend._get_available_gpus()"
      ],
      "execution_count": 2,
      "outputs": [
        {
          "output_type": "stream",
          "text": [
            "Using TensorFlow backend.\n"
          ],
          "name": "stderr"
        },
        {
          "output_type": "execute_result",
          "data": {
            "text/plain": [
              "['/job:localhost/replica:0/task:0/device:GPU:0']"
            ]
          },
          "metadata": {
            "tags": []
          },
          "execution_count": 2
        }
      ]
    },
    {
      "metadata": {
        "id": "4PON7I-aXiys",
        "colab_type": "code",
        "outputId": "5e923fd8-d5b1-49b2-8d6c-369c18dd79fb",
        "colab": {
          "base_uri": "https://localhost:8080/",
          "height": 34
        }
      },
      "cell_type": "code",
      "source": [
        "from google.colab import drive\n",
        "drive.mount('/content/gdrive/')"
      ],
      "execution_count": 3,
      "outputs": [
        {
          "output_type": "stream",
          "text": [
            "Drive already mounted at /content/gdrive/; to attempt to forcibly remount, call drive.mount(\"/content/gdrive/\", force_remount=True).\n"
          ],
          "name": "stdout"
        }
      ]
    },
    {
      "metadata": {
        "id": "jJP7Yv9j0cb_",
        "colab_type": "code",
        "colab": {}
      },
      "cell_type": "code",
      "source": [
        "import pandas as pd\n",
        "from sklearn.model_selection import train_test_split\n",
        "\n",
        "BASE_DIR = '/content/gdrive/My Drive/Colab Notebooks/Fashion-MNIST/'\n",
        "\n",
        "train_file = BASE_DIR + \"fashion-mnist_train.csv\"\n",
        "test_file  = BASE_DIR + \"fashion-mnist_test.csv\"\n",
        "\n",
        "train_data = pd.read_csv(train_file)\n",
        "test_data = pd.read_csv(test_file)\n",
        "\n",
        "x_train = train_data.values[:,1:]\n",
        "y_train = train_data.label\n",
        "\n",
        "x_test = test_data.values[:,1:]\n",
        "y_test = test_data.label"
      ],
      "execution_count": 0,
      "outputs": []
    },
    {
      "metadata": {
        "id": "th9eWKcWYrfv",
        "colab_type": "code",
        "colab": {}
      },
      "cell_type": "code",
      "source": [
        "from keras.utils import to_categorical\n",
        "\n",
        "img_rows, img_cols = 28, 28\n",
        "x_train = x_train.reshape(x_train.shape[0], img_rows, img_cols, 1)\n",
        "x_test = x_test.reshape(x_test.shape[0], img_rows, img_cols, 1)\n",
        "input_shape = (img_rows, img_cols, 1)\n",
        "\n",
        "x_train = x_train.astype('float32')\n",
        "x_test = x_test.astype('float32')\n",
        "x_train /= 255\n",
        "x_test /= 255\n",
        "\n",
        "num_classes = 10\n",
        "y_train = to_categorical(y_train, num_classes)\n",
        "y_test = to_categorical(y_test, num_classes)"
      ],
      "execution_count": 0,
      "outputs": []
    },
    {
      "metadata": {
        "id": "dxh8rcHB22cB",
        "colab_type": "code",
        "colab": {}
      },
      "cell_type": "code",
      "source": [
        "from keras import layers\n",
        "from keras.models import Model\n",
        "from keras.losses import categorical_crossentropy\n",
        "\n",
        "inputs = layers.Input(shape=input_shape)\n",
        "\n",
        "# First block of AlexNet\n",
        "x = layers.Conv2D(96, (11, 11), activation='relu', strides=(4, 4), padding='same', name=\"b1-c1\")(inputs)\n",
        "x = layers.MaxPooling2D(pool_size=(2, 2), strides=(2, 2), padding='same', name=\"b1-mp1\")(x)\n",
        "x = layers.BatchNormalization(name=\"b1-bn1\")(x)\n",
        "\n",
        "# First block of VggNet\n",
        "x = layers.Conv2D(64, (3, 3), activation='relu', padding='same', name='b2-c1')(x)\n",
        "x = layers.Conv2D(64, (3, 3), activation='relu', padding='same', name='b2-c2')(x)\n",
        "x = layers.MaxPooling2D((2, 2), strides=(2, 2), name='b2-mp1')(x)\n",
        "\n",
        "# Dephwise convolution block of MobileNet\n",
        "x = layers.ZeroPadding2D(padding=((0,1),(0, 1)), name='b3-zp1')(x)\n",
        "x = layers.DepthwiseConv2D((3, 3), strides=(2, 2), padding='same', name='b3-dc1')(x)\n",
        "x = layers.BatchNormalization(name='b3-bn1')(x)\n",
        "x = layers.ReLU(6., name='b3-r1')(x)\n",
        "x = layers.Conv2D(64, (3, 3), strides=(2, 2), padding='same', name='b3-c1')(x)\n",
        "x = layers.BatchNormalization(name='b3-bn2')(x)\n",
        "x = layers.ReLU(6., name='b3-r2')(x)\n",
        "\n",
        "last_layer = x\n",
        "# Residual_Block of ResNet\n",
        "x = layers.Conv2D(64, (3, 3), strides=(2, 2), padding='same', kernel_initializer='he_normal', name='b4-c1')(x)\n",
        "x = layers.BatchNormalization(name='b4-bn1')(x)\n",
        "x = layers.Activation('relu',name='b4-r1')(x)\n",
        "x = layers.Conv2D(64, (3, 3), strides=(2, 2), padding='same', kernel_initializer='he_normal', name='b4-c2')(x)\n",
        "x = layers.BatchNormalization(name='b4-bn2')(x)\n",
        "x = layers.Activation('relu', name='b4-r2')(x)\n",
        "x = layers.Conv2D(64, (3, 3), strides=(2, 2), padding='same', kernel_initializer='he_normal', name='b4-c3')(x)\n",
        "x = layers.BatchNormalization(name='b4-bn3')(x)\n",
        "x = layers.add([x, last_layer], name='b4-a1')\n",
        "x = layers.Activation('relu', name='b4-r3')(x)\n",
        "\n",
        "# Transition block of DensNet\n",
        "x = layers.BatchNormalization(axis=3, epsilon=1.001e-5, name='b5-bn1')(x)\n",
        "x = layers.Activation('relu', name='b5-r1')(x)\n",
        "x = layers.Conv2D(int(K.int_shape(x)[3] * 0.5),1 , use_bias=False, name='b5-c1')(x)\n",
        "\n",
        "# Classification block of GoogLeNet\n",
        "x = layers.GlobalAveragePooling2D(name='b6-gap1')(x)\n",
        "predictions = layers.Dense(10, activation='softmax', name='b6-d1')(x)\n",
        "  \n",
        "model = Model(inputs=inputs, outputs=predictions)\n",
        "\n",
        "model.compile(loss=categorical_crossentropy,\n",
        "              optimizer='sgd',\n",
        "              metrics=['accuracy'])"
      ],
      "execution_count": 0,
      "outputs": []
    },
    {
      "metadata": {
        "id": "7IXwoucR8Psy",
        "colab_type": "code",
        "outputId": "eceb670f-320a-44ce-998a-2bb9bb9d3345",
        "colab": {
          "base_uri": "https://localhost:8080/",
          "height": 1139
        }
      },
      "cell_type": "code",
      "source": [
        "model.summary()"
      ],
      "execution_count": 10,
      "outputs": [
        {
          "output_type": "stream",
          "text": [
            "__________________________________________________________________________________________________\n",
            "Layer (type)                    Output Shape         Param #     Connected to                     \n",
            "==================================================================================================\n",
            "input_1 (InputLayer)            (None, 28, 28, 1)    0                                            \n",
            "__________________________________________________________________________________________________\n",
            "b1-c1 (Conv2D)                  (None, 7, 7, 96)     11712       input_1[0][0]                    \n",
            "__________________________________________________________________________________________________\n",
            "b1-mp1 (MaxPooling2D)           (None, 4, 4, 96)     0           b1-c1[0][0]                      \n",
            "__________________________________________________________________________________________________\n",
            "b1-bn1 (BatchNormalization)     (None, 4, 4, 96)     384         b1-mp1[0][0]                     \n",
            "__________________________________________________________________________________________________\n",
            "b2-c1 (Conv2D)                  (None, 4, 4, 64)     55360       b1-bn1[0][0]                     \n",
            "__________________________________________________________________________________________________\n",
            "b2-c2 (Conv2D)                  (None, 4, 4, 64)     36928       b2-c1[0][0]                      \n",
            "__________________________________________________________________________________________________\n",
            "b2-mp1 (MaxPooling2D)           (None, 2, 2, 64)     0           b2-c2[0][0]                      \n",
            "__________________________________________________________________________________________________\n",
            "b3-zp1 (ZeroPadding2D)          (None, 3, 3, 64)     0           b2-mp1[0][0]                     \n",
            "__________________________________________________________________________________________________\n",
            "b3-dc1 (DepthwiseConv2D)        (None, 2, 2, 64)     640         b3-zp1[0][0]                     \n",
            "__________________________________________________________________________________________________\n",
            "b3-bn1 (BatchNormalization)     (None, 2, 2, 64)     256         b3-dc1[0][0]                     \n",
            "__________________________________________________________________________________________________\n",
            "b3-r1 (ReLU)                    (None, 2, 2, 64)     0           b3-bn1[0][0]                     \n",
            "__________________________________________________________________________________________________\n",
            "b3-c1 (Conv2D)                  (None, 1, 1, 64)     36928       b3-r1[0][0]                      \n",
            "__________________________________________________________________________________________________\n",
            "b3-bn2 (BatchNormalization)     (None, 1, 1, 64)     256         b3-c1[0][0]                      \n",
            "__________________________________________________________________________________________________\n",
            "b3-r2 (ReLU)                    (None, 1, 1, 64)     0           b3-bn2[0][0]                     \n",
            "__________________________________________________________________________________________________\n",
            "b4-c1 (Conv2D)                  (None, 1, 1, 64)     36928       b3-r2[0][0]                      \n",
            "__________________________________________________________________________________________________\n",
            "b4-bn1 (BatchNormalization)     (None, 1, 1, 64)     256         b4-c1[0][0]                      \n",
            "__________________________________________________________________________________________________\n",
            "b4-r1 (Activation)              (None, 1, 1, 64)     0           b4-bn1[0][0]                     \n",
            "__________________________________________________________________________________________________\n",
            "b4-c2 (Conv2D)                  (None, 1, 1, 64)     36928       b4-r1[0][0]                      \n",
            "__________________________________________________________________________________________________\n",
            "b4-bn2 (BatchNormalization)     (None, 1, 1, 64)     256         b4-c2[0][0]                      \n",
            "__________________________________________________________________________________________________\n",
            "b4-r2 (Activation)              (None, 1, 1, 64)     0           b4-bn2[0][0]                     \n",
            "__________________________________________________________________________________________________\n",
            "b4-c3 (Conv2D)                  (None, 1, 1, 64)     36928       b4-r2[0][0]                      \n",
            "__________________________________________________________________________________________________\n",
            "b4-bn3 (BatchNormalization)     (None, 1, 1, 64)     256         b4-c3[0][0]                      \n",
            "__________________________________________________________________________________________________\n",
            "b4-a1 (Add)                     (None, 1, 1, 64)     0           b4-bn3[0][0]                     \n",
            "                                                                 b3-r2[0][0]                      \n",
            "__________________________________________________________________________________________________\n",
            "b4-r3 (Activation)              (None, 1, 1, 64)     0           b4-a1[0][0]                      \n",
            "__________________________________________________________________________________________________\n",
            "b5-bn1 (BatchNormalization)     (None, 1, 1, 64)     256         b4-r3[0][0]                      \n",
            "__________________________________________________________________________________________________\n",
            "b5-r1 (Activation)              (None, 1, 1, 64)     0           b5-bn1[0][0]                     \n",
            "__________________________________________________________________________________________________\n",
            "b5-c1 (Conv2D)                  (None, 1, 1, 32)     2048        b5-r1[0][0]                      \n",
            "__________________________________________________________________________________________________\n",
            "b6-gap1 (GlobalAveragePooling2D (None, 32)           0           b5-c1[0][0]                      \n",
            "__________________________________________________________________________________________________\n",
            "b6-d1 (Dense)                   (None, 10)           330         b6-gap1[0][0]                    \n",
            "==================================================================================================\n",
            "Total params: 256,650\n",
            "Trainable params: 255,690\n",
            "Non-trainable params: 960\n",
            "__________________________________________________________________________________________________\n"
          ],
          "name": "stdout"
        }
      ]
    },
    {
      "metadata": {
        "id": "y_PYgeGB5eKn",
        "colab_type": "code",
        "outputId": "b8e799b2-795b-47fd-bd24-ddc2f4559025",
        "colab": {
          "base_uri": "https://localhost:8080/",
          "height": 391
        }
      },
      "cell_type": "code",
      "source": [
        "model.fit(x_train, y_train,\n",
        "          batch_size=64,\n",
        "          epochs=10,\n",
        "          verbose=1,\n",
        "          validation_data=(x_test, y_test))"
      ],
      "execution_count": 8,
      "outputs": [
        {
          "output_type": "stream",
          "text": [
            "Train on 60000 samples, validate on 10000 samples\n",
            "Epoch 1/10\n",
            "60000/60000 [==============================] - 18s 308us/step - loss: 0.5559 - acc: 0.8093 - val_loss: 0.4249 - val_acc: 0.8428\n",
            "Epoch 2/10\n",
            "60000/60000 [==============================] - 17s 278us/step - loss: 0.3782 - acc: 0.8653 - val_loss: 0.3802 - val_acc: 0.8643\n",
            "Epoch 3/10\n",
            "60000/60000 [==============================] - 16s 270us/step - loss: 0.3340 - acc: 0.8798 - val_loss: 0.3852 - val_acc: 0.8580\n",
            "Epoch 4/10\n",
            "60000/60000 [==============================] - 16s 264us/step - loss: 0.3079 - acc: 0.8888 - val_loss: 0.3050 - val_acc: 0.8876\n",
            "Epoch 5/10\n",
            "60000/60000 [==============================] - 16s 274us/step - loss: 0.2841 - acc: 0.8957 - val_loss: 0.3003 - val_acc: 0.8892\n",
            "Epoch 6/10\n",
            "60000/60000 [==============================] - 16s 266us/step - loss: 0.2686 - acc: 0.9015 - val_loss: 0.3161 - val_acc: 0.8800\n",
            "Epoch 7/10\n",
            "60000/60000 [==============================] - 16s 263us/step - loss: 0.2546 - acc: 0.9062 - val_loss: 0.3212 - val_acc: 0.8784\n",
            "Epoch 8/10\n",
            "60000/60000 [==============================] - 17s 275us/step - loss: 0.2415 - acc: 0.9112 - val_loss: 0.2935 - val_acc: 0.8948\n",
            "Epoch 9/10\n",
            "60000/60000 [==============================] - 16s 273us/step - loss: 0.2319 - acc: 0.9148 - val_loss: 0.3167 - val_acc: 0.8860\n",
            "Epoch 10/10\n",
            "60000/60000 [==============================] - 16s 269us/step - loss: 0.2233 - acc: 0.9160 - val_loss: 0.3055 - val_acc: 0.8932\n"
          ],
          "name": "stdout"
        },
        {
          "output_type": "execute_result",
          "data": {
            "text/plain": [
              "<keras.callbacks.History at 0x7f4c5f247748>"
            ]
          },
          "metadata": {
            "tags": []
          },
          "execution_count": 8
        }
      ]
    },
    {
      "metadata": {
        "id": "F-3EDyJ56gl0",
        "colab_type": "code",
        "outputId": "3f57787d-0308-423b-c3f4-34559f7b8788",
        "colab": {
          "base_uri": "https://localhost:8080/",
          "height": 51
        }
      },
      "cell_type": "code",
      "source": [
        "score = model.evaluate(x_test, y_test, verbose=0)\n",
        "print('Test loss:', score[0])\n",
        "print('Test accuracy:', score[1])"
      ],
      "execution_count": 9,
      "outputs": [
        {
          "output_type": "stream",
          "text": [
            "Test loss: 0.3055308569073677\n",
            "Test accuracy: 0.8932\n"
          ],
          "name": "stdout"
        }
      ]
    }
  ]
}